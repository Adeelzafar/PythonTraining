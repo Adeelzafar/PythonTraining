{
  "nbformat": 4,
  "nbformat_minor": 0,
  "metadata": {
    "colab": {
      "name": "Python-Mock-Exam.ipynb",
      "provenance": [],
      "collapsed_sections": [],
      "authorship_tag": "ABX9TyPckTVqO+YQ4yLR903vFEqt",
      "include_colab_link": true
    },
    "kernelspec": {
      "name": "python3",
      "display_name": "Python 3"
    },
    "language_info": {
      "name": "python"
    }
  },
  "cells": [
    {
      "cell_type": "markdown",
      "metadata": {
        "id": "view-in-github",
        "colab_type": "text"
      },
      "source": [
        "<a href=\"https://colab.research.google.com/github/Adeelzafar/PythonTraining/blob/main/Python_Mock_Exam.ipynb\" target=\"_parent\"><img src=\"https://colab.research.google.com/assets/colab-badge.svg\" alt=\"Open In Colab\"/></a>"
      ]
    },
    {
      "cell_type": "code",
      "execution_count": 1,
      "metadata": {
        "id": "2mnKljpJ4pd2"
      },
      "outputs": [],
      "source": [
        "import pandas as pd"
      ]
    },
    {
      "cell_type": "code",
      "source": [
        "songs = pd.Series([13,12,3], name=\"counts\")"
      ],
      "metadata": {
        "id": "M_9Qqiya6VY1"
      },
      "execution_count": 6,
      "outputs": []
    },
    {
      "cell_type": "code",
      "source": [
        "songs"
      ],
      "metadata": {
        "colab": {
          "base_uri": "https://localhost:8080/"
        },
        "id": "ukH5sq0x7Kl2",
        "outputId": "fab8ce4e-3694-4828-e5f5-68c53763ec0e"
      },
      "execution_count": 7,
      "outputs": [
        {
          "output_type": "execute_result",
          "data": {
            "text/plain": [
              "0    13\n",
              "1    12\n",
              "2     3\n",
              "Name: counts, dtype: int64"
            ]
          },
          "metadata": {},
          "execution_count": 7
        }
      ]
    },
    {
      "cell_type": "code",
      "source": [
        "songs.mean()"
      ],
      "metadata": {
        "colab": {
          "base_uri": "https://localhost:8080/"
        },
        "id": "WgtHnDKb7OMs",
        "outputId": "2aae0c41-823a-42a4-b204-ad74f5d8c205"
      },
      "execution_count": 8,
      "outputs": [
        {
          "output_type": "execute_result",
          "data": {
            "text/plain": [
              "9.333333333333334"
            ]
          },
          "metadata": {},
          "execution_count": 8
        }
      ]
    },
    {
      "cell_type": "code",
      "source": [
        "2 ** 3 ** 2 ** 1"
      ],
      "metadata": {
        "colab": {
          "base_uri": "https://localhost:8080/"
        },
        "id": "GZ96yPG78L-Y",
        "outputId": "395f86c5-f236-4bc8-fc57-70b52a77b6d2"
      },
      "execution_count": 1,
      "outputs": [
        {
          "output_type": "execute_result",
          "data": {
            "text/plain": [
              "512"
            ]
          },
          "metadata": {},
          "execution_count": 1
        }
      ]
    },
    {
      "cell_type": "code",
      "source": [
        "name = \"Peter's sister's name's \\\"Anna\\\"\"\n",
        "print(name)"
      ],
      "metadata": {
        "colab": {
          "base_uri": "https://localhost:8080/"
        },
        "id": "SnFtmEO9B58o",
        "outputId": "d0b12901-7ef0-4860-f1dc-80ff24271834"
      },
      "execution_count": 6,
      "outputs": [
        {
          "output_type": "stream",
          "name": "stdout",
          "text": [
            "Peter's sister's name's \"Anna\"\n"
          ]
        }
      ]
    },
    {
      "cell_type": "code",
      "source": [
        "'Peter\\'s sister\\'s name\\'s \\\"Anna\\\"'"
      ],
      "metadata": {
        "colab": {
          "base_uri": "https://localhost:8080/",
          "height": 36
        },
        "id": "PhW8z0X1CiLw",
        "outputId": "a34935ba-b6e1-4ee8-a034-05de4cb78f1c"
      },
      "execution_count": 4,
      "outputs": [
        {
          "output_type": "execute_result",
          "data": {
            "text/plain": [
              "'Peter\\'s sister\\'s name\\'s \"Anna\"'"
            ],
            "application/vnd.google.colaboratory.intrinsic+json": {
              "type": "string"
            }
          },
          "metadata": {},
          "execution_count": 4
        }
      ]
    },
    {
      "cell_type": "code",
      "source": [
        "i = 250\n",
        "i //= 2\n",
        "i"
      ],
      "metadata": {
        "colab": {
          "base_uri": "https://localhost:8080/"
        },
        "id": "2dso-S0sC1Xr",
        "outputId": "a7a5ae91-3678-48ab-cfc4-0ca73eacdf61"
      },
      "execution_count": 9,
      "outputs": [
        {
          "output_type": "execute_result",
          "data": {
            "text/plain": [
              "125"
            ]
          },
          "metadata": {},
          "execution_count": 9
        }
      ]
    },
    {
      "cell_type": "code",
      "source": [
        "n = 0 \n",
        "while n < 4: \n",
        "  n += 1\n",
        "  print(n, end=\" \")"
      ],
      "metadata": {
        "colab": {
          "base_uri": "https://localhost:8080/"
        },
        "id": "A0wAg0acDyPQ",
        "outputId": "9a37e388-6057-4211-d0ed-342e3779256d"
      },
      "execution_count": 12,
      "outputs": [
        {
          "output_type": "stream",
          "name": "stdout",
          "text": [
            "1 2 3 4 "
          ]
        }
      ]
    },
    {
      "cell_type": "code",
      "source": [
        "Val = 1 \n",
        "Val2 = 0 \n",
        "Val = Val ^ Val2\n",
        "print(Val)\n",
        "Val2 = Val ^ Val2\n",
        "print(Val2)\n",
        "Val = Val ^ Val2\n",
        "print(Val)\n"
      ],
      "metadata": {
        "colab": {
          "base_uri": "https://localhost:8080/"
        },
        "id": "dHVXii7kEa4u",
        "outputId": "33760f26-24a1-429d-8938-3a3aec22c873"
      },
      "execution_count": 14,
      "outputs": [
        {
          "output_type": "stream",
          "name": "stdout",
          "text": [
            "1\n",
            "1\n",
            "0\n"
          ]
        }
      ]
    },
    {
      "cell_type": "code",
      "source": [
        "z, y, x = 2, 1, 0 \n",
        "x, z = z, y \n",
        "print(x,y,z)\n",
        "y = y - z \n",
        "print(x,y,z)\n",
        "# put line here \n",
        "#y, z, x = x, y, z\n",
        "x, y, z = y, z, x\n",
        "print(x, y, z)"
      ],
      "metadata": {
        "colab": {
          "base_uri": "https://localhost:8080/"
        },
        "id": "FjFgaqFrFpOO",
        "outputId": "65b819a4-e4ba-414e-d6bf-a6d992ec9579"
      },
      "execution_count": 17,
      "outputs": [
        {
          "output_type": "stream",
          "name": "stdout",
          "text": [
            "2 1 1\n",
            "2 0 1\n",
            "0 1 2\n"
          ]
        }
      ]
    },
    {
      "cell_type": "code",
      "source": [
        "x = \"20\" \n",
        "y = \"20\"\n",
        "print(x is y)"
      ],
      "metadata": {
        "colab": {
          "base_uri": "https://localhost:8080/"
        },
        "id": "xpn3rko0Hcsc",
        "outputId": "79888608-21ee-40e5-d576-12f9096f79ee"
      },
      "execution_count": 22,
      "outputs": [
        {
          "output_type": "stream",
          "name": "stdout",
          "text": [
            "True\n"
          ]
        }
      ]
    },
    {
      "cell_type": "code",
      "source": [
        "s = \"Hello, Python!\" \n",
        "len(s)\n",
        "#print(s[-15:15])\n",
        "print(s[-15:])"
      ],
      "metadata": {
        "colab": {
          "base_uri": "https://localhost:8080/"
        },
        "id": "_BQVzQrHK0SL",
        "outputId": "e15af11b-d6b7-4ba7-c7dd-4c6797ae53ec"
      },
      "execution_count": 39,
      "outputs": [
        {
          "output_type": "stream",
          "name": "stdout",
          "text": [
            "Hello, Python!\n"
          ]
        }
      ]
    },
    {
      "cell_type": "code",
      "source": [
        "lst = [\"A\", \"B\", \"C\", 2, 4] \n",
        "print(lst[:-2])\n",
        "#del lst[0:-2] \n",
        "#print(lst)"
      ],
      "metadata": {
        "colab": {
          "base_uri": "https://localhost:8080/"
        },
        "id": "vuliM5oeLdkC",
        "outputId": "416501be-57a6-4bc7-a310-05708f93ca9e"
      },
      "execution_count": 41,
      "outputs": [
        {
          "output_type": "stream",
          "name": "stdout",
          "text": [
            "['A', 'B', 'C']\n"
          ]
        }
      ]
    },
    {
      "cell_type": "code",
      "source": [
        "s = 'python' \n",
        "for i in range(len(s)):\n",
        "  print(type(i)) \n",
        "  print(i)\n",
        "  i = s[i].upper()\n",
        "  print(type(i)) \n",
        "  print(i, end=\"\")\n",
        "#print(s, end=\"\")\n",
        "print(i)\n",
        "print(type(i))"
      ],
      "metadata": {
        "colab": {
          "base_uri": "https://localhost:8080/"
        },
        "id": "e9fix8e6NcPy",
        "outputId": "166df870-b4d8-4a74-c1c9-96ff622bb9b3"
      },
      "execution_count": 54,
      "outputs": [
        {
          "output_type": "stream",
          "name": "stdout",
          "text": [
            "<class 'int'>\n",
            "0\n",
            "<class 'str'>\n",
            "P<class 'int'>\n",
            "1\n",
            "<class 'str'>\n",
            "Y<class 'int'>\n",
            "2\n",
            "<class 'str'>\n",
            "T<class 'int'>\n",
            "3\n",
            "<class 'str'>\n",
            "H<class 'int'>\n",
            "4\n",
            "<class 'str'>\n",
            "O<class 'int'>\n",
            "5\n",
            "<class 'str'>\n",
            "NN\n",
            "<class 'str'>\n"
          ]
        }
      ]
    },
    {
      "cell_type": "code",
      "source": [
        "lst1 = \"12,34\" \n",
        "lst2 = lst1.split(',')\n",
        "print(type(lst1))\n",
        "print(lst2)\n",
        "print(type(lst2))\n",
        "print(len(lst1))\n",
        "print(len(lst2))\n",
        "\n",
        "print(len(lst1) < len(lst2))\n",
        "# 5 > 2"
      ],
      "metadata": {
        "colab": {
          "base_uri": "https://localhost:8080/"
        },
        "id": "qLDO1K2SPN5r",
        "outputId": "083b904e-cb5d-404a-f211-4c5098e182a7"
      },
      "execution_count": 58,
      "outputs": [
        {
          "output_type": "stream",
          "name": "stdout",
          "text": [
            "<class 'str'>\n",
            "['12', '34']\n",
            "<class 'list'>\n",
            "5\n",
            "2\n",
            "False\n"
          ]
        }
      ]
    },
    {
      "cell_type": "code",
      "source": [
        "def fun(a, b=0, c=5, d=1):\n",
        "   return a ** b ** c \n",
        "print(fun(b=2, a=2, c=3))\n",
        "#def fun(mand, default = 0, mand)\n",
        "#fun(1,0,1)"
      ],
      "metadata": {
        "colab": {
          "base_uri": "https://localhost:8080/"
        },
        "id": "jYvWyC4gipyV",
        "outputId": "87c8391a-5c9d-492f-d757-0acd5d7d02a8"
      },
      "execution_count": 62,
      "outputs": [
        {
          "output_type": "stream",
          "name": "stdout",
          "text": [
            "256\n"
          ]
        }
      ]
    },
    {
      "cell_type": "code",
      "source": [
        "from random import randint \n",
        "for i in range(10): \n",
        "  print(randint(1, 5))"
      ],
      "metadata": {
        "colab": {
          "base_uri": "https://localhost:8080/"
        },
        "id": "JwsRz47Sj66O",
        "outputId": "519e3a64-5d69-4e0f-f0bd-915cdeff5648"
      },
      "execution_count": 63,
      "outputs": [
        {
          "output_type": "stream",
          "name": "stdout",
          "text": [
            "4\n",
            "5\n",
            "3\n",
            "5\n",
            "5\n",
            "1\n",
            "3\n",
            "4\n",
            "2\n",
            "1\n"
          ]
        }
      ]
    },
    {
      "cell_type": "code",
      "source": [
        "a = 'hello' \n",
        "# line 1 \n",
        "def x(a,b=0): \n",
        "  # line 2 \n",
        "  z = a[0] \n",
        "  # line 3 \n",
        "  return z \n",
        "  # line 4 \n",
        "print(x(a)) # line 5"
      ],
      "metadata": {
        "colab": {
          "base_uri": "https://localhost:8080/"
        },
        "id": "OetaNZaal_uF",
        "outputId": "92a1f00e-9e3b-4dfc-eed0-64b97b95f6eb"
      },
      "execution_count": 64,
      "outputs": [
        {
          "output_type": "stream",
          "name": "stdout",
          "text": [
            "h\n"
          ]
        }
      ]
    },
    {
      "cell_type": "code",
      "source": [
        ""
      ],
      "metadata": {
        "id": "kOAvNFI6rMSX"
      },
      "execution_count": null,
      "outputs": []
    }
  ]
}